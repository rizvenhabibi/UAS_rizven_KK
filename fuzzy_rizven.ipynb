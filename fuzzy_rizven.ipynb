{
  "nbformat": 4,
  "nbformat_minor": 0,
  "metadata": {
    "colab": {
      "provenance": [],
      "authorship_tag": "ABX9TyNbYnQNVLV31ZrJGWCqxmgw",
      "include_colab_link": true
    },
    "kernelspec": {
      "name": "python3",
      "display_name": "Python 3"
    },
    "language_info": {
      "name": "python"
    }
  },
  "cells": [
    {
      "cell_type": "markdown",
      "metadata": {
        "id": "view-in-github",
        "colab_type": "text"
      },
      "source": [
        "<a href=\"https://colab.research.google.com/github/rizvenhabibi/UAS_rizven_KK/blob/main/fuzzy_rizven.ipynb\" target=\"_parent\"><img src=\"https://colab.research.google.com/assets/colab-badge.svg\" alt=\"Open In Colab\"/></a>"
      ]
    },
    {
      "cell_type": "markdown",
      "source": [
        "mengimpor library panda dan di aliaskan sebadai variabel pd"
      ],
      "metadata": {
        "id": "GD8q89pX92WS"
      }
    },
    {
      "cell_type": "code",
      "source": [
        "import pandas as pd\n",
        "\n",
        "data = pd.read_excel('sample_data/News.xlsx') ; #mengambil sumber data dari file excel\n",
        "news = data['News'].tolist();     #memecah kolom News jadi array list\n",
        "emotion = data['Emotion'].tolist(); #memecah kolom Emotion jadi array list\n",
        "provoke = data['Provoke'].tolist(); #memecah kolom Provoke jadi array list"
      ],
      "metadata": {
        "id": "0IjvJAuNw_r3"
      },
      "execution_count": 10,
      "outputs": []
    },
    {
      "cell_type": "markdown",
      "source": [
        "bagian code untuk menentukan jumlah emosi"
      ],
      "metadata": {
        "id": "bWtGmHZ49nxk"
      }
    },
    {
      "cell_type": "code",
      "source": [
        "def checkEmotion(x):\n",
        "    eLow, eMedium, eHigh = 0,0,0\n",
        "\n",
        "    if x >= 0 and x <= 35:\n",
        "        eLow    = 1\n",
        "\n",
        "    elif x > 35 and x < 39:\n",
        "        eLow    = (-1*((x-39)/(39-35)))\n",
        "        eMedium = ((x-35)/(39-35))\n",
        "\n",
        "    elif x >= 39 and x <= 61:\n",
        "        eMedium = 1\n",
        "\n",
        "    elif x > 61 and x <65:\n",
        "        eMedium = (-1*((x-65)/(65-61)))\n",
        "        eHigh   = ((x-61)/(65-1))\n",
        "\n",
        "    elif x >= 65:\n",
        "        eHigh   = 1\n",
        "\n",
        "    return eLow, eMedium, eHigh"
      ],
      "metadata": {
        "id": "NO9Y9T5a-VsJ"
      },
      "execution_count": 12,
      "outputs": []
    },
    {
      "cell_type": "markdown",
      "source": [
        "bagian code untuk menentukan jumlah provokasi"
      ],
      "metadata": {
        "id": "3_DJM4wI-bC2"
      }
    },
    {
      "cell_type": "code",
      "source": [
        "def checkProvoke(x):\n",
        "    pLow, pMedium, pHigh = 0,0,0\n",
        "\n",
        "    if x >= 0 and x <= 55:\n",
        "        pLow    = 1\n",
        "\n",
        "    elif x > 55 and x < 60:\n",
        "        pLow    = (-1*(x-60)/(60-55))\n",
        "        pMedium = ((x-55)/(60-55))\n",
        "\n",
        "    elif x >= 60 and x <= 85:\n",
        "        pMedium = 1\n",
        "\n",
        "    elif x > 85 and x < 87:\n",
        "        pMedium = (-1*(x-87)/(82-87))\n",
        "        pHigh   = ((x-85)/(87-85))\n",
        "\n",
        "    elif x >= 87:\n",
        "        pHigh   = 1\n",
        "\n",
        "    return pLow, pMedium, pHigh"
      ],
      "metadata": {
        "id": "2c58QnEX-VXy"
      },
      "execution_count": 13,
      "outputs": []
    },
    {
      "cell_type": "markdown",
      "source": [
        "- Deklarasi Fungsi \"inference\" untuk menghitung nilai output fuzzy menggunakan kombinasi parameter emosi dan provokasi saat program dijalankan-"
      ],
      "metadata": {
        "id": "3tBBWCb1-3dR"
      }
    },
    {
      "cell_type": "code",
      "source": [
        "def inference(eLow, eMedium, eHigh, pLow, pMedium, pHigh):\n",
        "    Y1,Y2,Y3,Y4,Y5 = 0,0,0,0,0\n",
        "    N1,N2,N3,N4 = 0,0,0,0\n",
        "    Y,N = 0,0\n",
        "\n",
        "    if eHigh != 0 and pHigh != 0:\n",
        "        Y1 = min(eHigh,pHigh)\n",
        "\n",
        "    if eHigh != 0 and pMedium != 0:\n",
        "        Y2 = min(eHigh,pMedium)\n",
        "\n",
        "    if eHigh != 0 and pLow != 0:\n",
        "        N1 = min(eHigh,pLow)\n",
        "\n",
        "    if eMedium != 0 and pHigh !=0:\n",
        "        Y3 = min(eMedium,pHigh)\n",
        "\n",
        "    if eMedium != 0 and pMedium != 0:\n",
        "        N2 = min(eMedium,pMedium)\n",
        "\n",
        "    if eMedium != 0 and pLow != 0:\n",
        "        N3 = min(eMedium,pLow)\n",
        "\n",
        "    if eLow != 0 and pHigh != 0:\n",
        "        Y4 = min(eLow,pHigh)\n",
        "\n",
        "    if eLow != 0 and pMedium != 0:\n",
        "        Y5 = min(eLow,pMedium)\n",
        "\n",
        "    if eLow != 0 and pLow != 0:\n",
        "        N4 = min(eLow,pLow)\n",
        "\n",
        "    Y = max(Y1,Y2,Y3,Y4,Y5)\n",
        "    N = max(N1,N2,N3,N4)\n",
        "    return Y,N"
      ],
      "metadata": {
        "id": "XwE5w7Hd-VEd"
      },
      "execution_count": 14,
      "outputs": []
    },
    {
      "cell_type": "markdown",
      "source": [
        "- Deklarasi fungsi \"defuzzification\" untuk melakukan defuzzifikasi atau melakukan konversi nilai fuzzy menjadi nilai yang kongkret -"
      ],
      "metadata": {
        "id": "plGOnX_N_CYn"
      }
    },
    {
      "cell_type": "code",
      "source": [
        "def defuzzification(Y,N):\n",
        "    if Y != 0 and N != 0:\n",
        "        return ((Y*60)+(N*40))/(Y+N)\n",
        "    elif Y != 0:\n",
        "        return (Y*60)/Y\n",
        "    elif N != 0:\n",
        "        return (N*40)/N"
      ],
      "metadata": {
        "id": "jmiGkX50-Uqd"
      },
      "execution_count": 15,
      "outputs": []
    },
    {
      "cell_type": "code",
      "execution_count": 11,
      "metadata": {
        "colab": {
          "base_uri": "https://localhost:8080/"
        },
        "id": "HRiOjGFRFDGg",
        "outputId": "9984e7d6-4128-4c8c-f24a-235fba150334"
      },
      "outputs": [
        {
          "output_type": "stream",
          "name": "stdout",
          "text": [
            "News :  B01  Emotion :  98  Provoke :  74  Hoax :  Yes\n",
            "News :  B02  Emotion :  36  Provoke :  85  Hoax :  Yes\n",
            "News :  B03  Emotion :  63  Provoke :  43  Hoax :  No\n",
            "News :  B04  Emotion :  82  Provoke :  90  Hoax :  Yes\n",
            "News :  B05  Emotion :  71  Provoke :  25  Hoax :  No\n",
            "News :  B06  Emotion :  79  Provoke :  81  Hoax :  Yes\n",
            "News :  B07  Emotion :  55  Provoke :  62  Hoax :  No\n",
            "News :  B08  Emotion :  57  Provoke :  45  Hoax :  No\n",
            "News :  B09  Emotion :  40  Provoke :  65  Hoax :  No\n",
            "News :  B10  Emotion :  57  Provoke :  45  Hoax :  No\n",
            "News :  B11  Emotion :  77  Provoke :  70  Hoax :  Yes\n",
            "News :  B12  Emotion :  68  Provoke :  75  Hoax :  Yes\n",
            "News :  B13  Emotion :  60  Provoke :  70  Hoax :  No\n",
            "News :  B14  Emotion :  82  Provoke :  90  Hoax :  Yes\n",
            "News :  B15  Emotion :  40  Provoke :  85  Hoax :  No\n",
            "News :  B16  Emotion :  80  Provoke :  68  Hoax :  Yes\n",
            "News :  B17  Emotion :  60  Provoke :  72  Hoax :  No\n",
            "News :  B18  Emotion :  50  Provoke :  95  Hoax :  Yes\n",
            "News :  B19  Emotion :  100  Provoke :  18  Hoax :  No\n",
            "News :  B20  Emotion :  11  Provoke :  99  Hoax :  Yes\n",
            "News :  B21  Emotion :  58  Provoke :  63  Hoax :  No\n",
            "News :  B22  Emotion :  68  Provoke :  70  Hoax :  Yes\n",
            "News :  B23  Emotion :  64  Provoke :  66  Hoax :  No\n",
            "News :  B24  Emotion :  57  Provoke :  77  Hoax :  No\n",
            "News :  B25  Emotion :  77  Provoke :  55  Hoax :  No\n",
            "News :  B26  Emotion :  98  Provoke :  64  Hoax :  Yes\n",
            "News :  B27  Emotion :  91  Provoke :  59  Hoax :  Yes\n",
            "News :  B28  Emotion :  50  Provoke :  95  Hoax :  Yes\n",
            "News :  B29  Emotion :  95  Provoke :  55  Hoax :  No\n",
            "News :  B30  Emotion :  27  Provoke :  79  Hoax :  Yes\n"
          ]
        }
      ],
      "source": [
        "\n",
        "\n",
        "\n",
        "\n",
        "count = 0\n",
        "while count < 30:\n",
        "    eLow,eMedium,eHigh = checkEmotion(emotion[count])\n",
        "    pLow,pMedium,pHigh = checkProvoke(provoke[count])\n",
        "    Ya,Tidak = inference(eLow,eMedium,eHigh,pLow,pMedium,pHigh)\n",
        "    hasil = defuzzification(Ya,Tidak)\n",
        "    if hasil < 55.0:\n",
        "        hoax = \"No\"\n",
        "    elif hasil >= 55.0:\n",
        "        hoax = \"Yes\"\n",
        "    print(\"News : \",news[count],\" Emotion : \",emotion[count],\" Provoke : \",provoke[count],\" Hoax : \", hoax)\n",
        "\n",
        "    count += 1"
      ]
    }
  ]
}